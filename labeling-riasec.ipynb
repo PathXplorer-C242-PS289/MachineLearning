{
 "cells": [
  {
   "cell_type": "code",
   "execution_count": 1,
   "metadata": {},
   "outputs": [],
   "source": [
    "import pandas as pd"
   ]
  },
  {
   "cell_type": "code",
   "execution_count": null,
   "metadata": {},
   "outputs": [],
   "source": [
    "df = pd.read_csv('data/riasec/cleaned-data.csv')\n",
    "\n",
    "categories = {\n",
    "    'R': [f'R{i}' for i in range(1, 9)],\n",
    "    'I': [f'I{i}' for i in range(1, 9)],\n",
    "    'A': [f'A{i}' for i in range(1, 9)],\n",
    "    'S': [f'S{i}' for i in range(1, 9)],\n",
    "    'E': [f'E{i}' for i in range(1, 9)],\n",
    "    'C': [f'C{i}' for i in range(1, 9)],\n",
    "}"
   ]
  },
  {
   "cell_type": "code",
   "execution_count": null,
   "metadata": {},
   "outputs": [],
   "source": [
    "for category, columns in categories.items():\n",
    "    df[f'{category}_Score'] = df[columns].apply(lambda row: sum(row - 1), axis=1)\n",
    "\n",
    "total_scores = df[[f'{category}_Score' for category in categories]].sum(axis=1)\n",
    "for category in categories:\n",
    "    df[f'{category}_Prob'] = df[f'{category}_Score'] / total_scores\n"
   ]
  },
  {
   "cell_type": "code",
   "execution_count": null,
   "metadata": {},
   "outputs": [],
   "source": [
    "df.to_csv('data/riasec/labeled-data.csv', index=False)\n",
    "print(\"Saved as 'labeled-data.csv'\")"
   ]
  }
 ],
 "metadata": {
  "kernelspec": {
   "display_name": "Python 3",
   "language": "python",
   "name": "python3"
  },
  "language_info": {
   "codemirror_mode": {
    "name": "ipython",
    "version": 3
   },
   "file_extension": ".py",
   "mimetype": "text/x-python",
   "name": "python",
   "nbconvert_exporter": "python",
   "pygments_lexer": "ipython3",
   "version": "3.11.9"
  }
 },
 "nbformat": 4,
 "nbformat_minor": 2
}

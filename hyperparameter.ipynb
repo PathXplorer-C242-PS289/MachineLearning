{
 "cells": [
  {
   "cell_type": "code",
   "execution_count": 20,
   "metadata": {},
   "outputs": [],
   "source": [
    "from sklearn.model_selection import train_test_split\n",
    "from sklearn.metrics import accuracy_score\n",
    "from sklearn.metrics import f1_score as sk_f1_score\n",
    "from tensorflow.keras.models import clone_model\n",
    "\n",
    "import pandas as pd\n",
    "import tensorflow as tf\n",
    "from tensorflow.keras import backend as K"
   ]
  },
  {
   "cell_type": "code",
   "execution_count": 21,
   "metadata": {},
   "outputs": [],
   "source": [
    "FILE_PATH='data/riasec/labeled-data.csv'\n",
    "df = pd.read_csv(FILE_PATH)\n",
    "\n",
    "feature_columns = [f'{col}{i}' for col in 'RIASEC' for i in range(1, 9)]\n",
    "x = df[feature_columns]\n",
    "\n",
    "label_columns = ['R_Prob','I_Prob','A_Prob','S_Prob','E_Prob','C_Prob']\n",
    "y = (df[label_columns] >= 0.2).astype(int)"
   ]
  },
  {
   "cell_type": "code",
   "execution_count": null,
   "metadata": {},
   "outputs": [
    {
     "name": "stdout",
     "output_type": "stream",
     "text": [
      "Data training shape\t: (108611, 48)\n",
      "Data testing shape\t: (27153, 48)\n",
      "Label training shape\t: (108611, 6)\n",
      "Label testing shape\t: (27153, 6)\n"
     ]
    }
   ],
   "source": [
    "x_train, x_test, y_train, y_test = train_test_split(x, y, test_size=0.2, random_state=42)\n",
    "print(f\"Data training shape\\t: {x_train.shape[:]}\")\n",
    "print(f\"Data testing shape\\t: {x_test.shape[:]}\")\n",
    "print(f\"Label training shape\\t: {y_train.shape[:]}\")\n",
    "print(f\"Label testing shape\\t: {y_test.shape[:]}\")"
   ]
  },
  {
   "cell_type": "code",
   "execution_count": null,
   "metadata": {},
   "outputs": [],
   "source": [
    "def f1_score(y_true, y_pred):\n",
    "    y_pred_classes = K.round(y_pred)\n",
    "    tp = K.sum(K.cast(y_true * y_pred_classes, 'float'), axis=0)\n",
    "    fp = K.sum(K.cast((1 - y_true) * y_pred_classes, 'float'), axis=0)\n",
    "    fn = K.sum(K.cast(y_true * (1 - y_pred_classes), 'float'), axis=0)\n",
    "\n",
    "    precision = tp / (tp + fp + K.epsilon())\n",
    "    recall = tp / (tp + fn + K.epsilon())\n",
    "    f1 = 2 * (precision * recall) / (precision + recall + K.epsilon())\n",
    "    return K.mean(f1)"
   ]
  },
  {
   "cell_type": "code",
   "execution_count": null,
   "metadata": {},
   "outputs": [],
   "source": [
    "def experiment_with_different_splits(x, y, model, lr, f1_score):\n",
    "    results = {}\n",
    "    for rate in lr:\n",
    "        x_train, x_test, y_train, y_test = train_test_split(x, y, test_size=0.2, random_state=42)\n",
    "        cloned_model = clone_model(model)\n",
    "        cloned_model.compile(optimizer=tf.keras.optimizers.Adam(learning_rate=rate),\n",
    "              loss='binary_crossentropy',\n",
    "              metrics=[f1_score])\n",
    "        # cloned_model.compile(optimizer='adam', loss='binary_crossentropy', metrics=['accuracy'])\n",
    "        cloned_model.fit(x_train, y_train, epochs=100, batch_size=64, verbose=0)\n",
    "        y_pred = cloned_model.predict(x_test)\n",
    "        y_pred_classes = (y_pred > 0.5).astype(int)\n",
    "        f1 = sk_f1_score(y_test, y_pred_classes, average='weighted')\n",
    "\n",
    "        results[rate] = f1\n",
    "    return results"
   ]
  },
  {
   "cell_type": "code",
   "execution_count": 24,
   "metadata": {},
   "outputs": [],
   "source": [
    "model = tf.keras.Sequential([\n",
    "    tf.keras.Input(shape=(48,)),\n",
    "    tf.keras.layers.Dense(64, activation='relu', kernel_regularizer=tf.keras.regularizers.l2(0.01), name='dense_layer_1'),\n",
    "    tf.keras.layers.Dropout(0.5, name='dropout_layer_1'),\n",
    "    tf.keras.layers.Dense(32, activation='relu',kernel_regularizer=tf.keras.regularizers.l2(0.01), name='dense_layer_2'),\n",
    "    tf.keras.layers.Dropout(0.3, name='dropout_layer_2'),\n",
    "    tf.keras.layers.Dense(6, activation='sigmoid', name='output_layer')\n",
    "])"
   ]
  },
  {
   "cell_type": "code",
   "execution_count": 28,
   "metadata": {},
   "outputs": [
    {
     "name": "stdout",
     "output_type": "stream",
     "text": [
      "849/849 [==============================] - 3s 3ms/step\n",
      "849/849 [==============================] - 2s 2ms/step\n",
      "849/849 [==============================] - 1s 1ms/step\n",
      "849/849 [==============================] - 2s 2ms/step\n",
      "{1e-06: 0.8000203395459697, 1e-05: 0.932527103554112, 0.0001: 0.9864148015894287, 0.001: 0.9725614581307646}\n"
     ]
    }
   ],
   "source": [
    "split_ratios = [0.000001, 0.00001, 0.0001, 0.001]\n",
    "results = experiment_with_different_splits(x, y, model, split_ratios, f1_score)\n",
    "print(results)"
   ]
  },
  {
   "cell_type": "code",
   "execution_count": null,
   "metadata": {},
   "outputs": [],
   "source": []
  }
 ],
 "metadata": {
  "kernelspec": {
   "display_name": "Python 3",
   "language": "python",
   "name": "python3"
  },
  "language_info": {
   "codemirror_mode": {
    "name": "ipython",
    "version": 3
   },
   "file_extension": ".py",
   "mimetype": "text/x-python",
   "name": "python",
   "nbconvert_exporter": "python",
   "pygments_lexer": "ipython3",
   "version": "3.11.9"
  }
 },
 "nbformat": 4,
 "nbformat_minor": 2
}

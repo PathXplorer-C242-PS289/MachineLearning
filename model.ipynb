{
 "cells": [
  {
   "cell_type": "code",
   "execution_count": null,
   "metadata": {},
   "outputs": [],
   "source": [
    "import pandas as pd\n",
    "import numpy as np\n",
    "from sklearn.model_selection import train_test_split\n",
    "# from mlsmote import MLSMOTE\n",
    "\n",
    "import tensorflow as tf\n",
    "from tensorflow.keras import backend as K\n",
    "# from tensorflow.keras.callbacks import EarlyStopping\n",
    "\n",
    "import seaborn as sns\n",
    "import matplotlib.pyplot as plt"
   ]
  },
  {
   "cell_type": "code",
   "execution_count": 47,
   "metadata": {},
   "outputs": [],
   "source": [
    "FILE_PATH='data/riasec/labeled-data.csv'\n",
    "EXCEPTION_SCORES=[0, 8, 16, 32]\n",
    "THRESHOLD=0.2\n",
    "EPOCHS=50\n",
    "BATCH_SIZE=64\n",
    "INPUT_SHAPE=48\n",
    "OUTPUT_SHAPE=6"
   ]
  },
  {
   "cell_type": "code",
   "execution_count": 3,
   "metadata": {},
   "outputs": [],
   "source": [
    "df = pd.read_csv(FILE_PATH)\n",
    "# df = df[~(\n",
    "#     (df['R_Score'].isin(EXCEPTION_SCORES)) & \n",
    "#     (df['I_Score'].isin(EXCEPTION_SCORES)) & \n",
    "#     (df['A_Score'].isin(EXCEPTION_SCORES)) & \n",
    "#     (df['S_Score'].isin(EXCEPTION_SCORES)) & \n",
    "#     (df['E_Score'].isin(EXCEPTION_SCORES)) & \n",
    "#     (df['C_Score'].isin(EXCEPTION_SCORES))\n",
    "# )]"
   ]
  },
  {
   "cell_type": "code",
   "execution_count": 4,
   "metadata": {},
   "outputs": [
    {
     "name": "stdout",
     "output_type": "stream",
     "text": [
      "Index(['R1', 'R2', 'R3', 'R4', 'R5', 'R6', 'R7', 'R8', 'I1', 'I2', 'I3', 'I4',\n",
      "       'I5', 'I6', 'I7', 'I8', 'A1', 'A2', 'A3', 'A4', 'A5', 'A6', 'A7', 'A8',\n",
      "       'S1', 'S2', 'S3', 'S4', 'S5', 'S6', 'S7', 'S8', 'E1', 'E2', 'E3', 'E4',\n",
      "       'E5', 'E6', 'E7', 'E8', 'C1', 'C2', 'C3', 'C4', 'C5', 'C6', 'C7', 'C8',\n",
      "       'R_Score', 'I_Score', 'A_Score', 'S_Score', 'E_Score', 'C_Score',\n",
      "       'R_Prob', 'I_Prob', 'A_Prob', 'S_Prob', 'E_Prob', 'C_Prob'],\n",
      "      dtype='object')\n"
     ]
    }
   ],
   "source": [
    "print(df.columns)"
   ]
  },
  {
   "cell_type": "code",
   "execution_count": 5,
   "metadata": {},
   "outputs": [],
   "source": [
    "feature_columns = [f'{col}{i}' for col in 'RIASEC' for i in range(1, 9)]\n",
    "x = df[feature_columns]\n",
    "\n",
    "label_columns = ['R_Prob','I_Prob','A_Prob','S_Prob','E_Prob','C_Prob']\n",
    "y = (df[label_columns] >= THRESHOLD).astype(int)"
   ]
  },
  {
   "cell_type": "code",
   "execution_count": 6,
   "metadata": {},
   "outputs": [
    {
     "name": "stdout",
     "output_type": "stream",
     "text": [
      "Data training shape\t: (108611, 48)\n",
      "Data testing shape\t: (27153, 48)\n",
      "Label training shape\t: (108611, 6)\n",
      "Label testing shape\t: (27153, 6)\n",
      "\n",
      "Data training sample\t:\n",
      ",        R1  R2  R3  R4  R5  R6  R7  R8  I1  I2  ...  E7  E8  C1  C2  C3  C4  \\\n",
      "22808    0   0   0   2   0   0   0   0   3   3  ...   0   3   0   0   0   1   \n",
      "83359    2   3   3   2   1   3   2   2   3   4  ...   2   4   2   4   3   1   \n",
      "68299    0   0   0   0   0   0   0   0   0   1  ...   0   4   0   0   0   0   \n",
      "110292   2   1   0   1   0   0   1   2   4   4  ...   2   3   3   4   1   2   \n",
      "89050    0   0   0   0   0   1   0   0   3   0  ...   2   1   0   0   1   1   \n",
      "\n",
      "        C5  C6  C7  C8  \n",
      "22808    0   0   0   0  \n",
      "83359    3   3   2   2  \n",
      "68299    0   2   0   0  \n",
      "110292   1   4   1   2  \n",
      "89050    1   1   1   0  \n",
      "\n",
      "[5 rows x 48 columns]\n",
      "\n",
      "Label training sample\t:\n",
      ",        R_Prob  I_Prob  A_Prob  S_Prob  E_Prob  C_Prob\n",
      "22808        0       1       1       1       0       0\n",
      "83359        0       0       0       0       0       0\n",
      "68299        0       0       1       0       1       0\n",
      "110292       0       1       0       1       0       0\n",
      "89050        0       1       1       1       1       0\n"
     ]
    }
   ],
   "source": [
    "x_train, x_test, y_train, y_test = train_test_split(x, y, test_size=0.2, random_state=42)\n",
    "\n",
    "print(f\"Data training shape\\t: {x_train.shape[:]}\")\n",
    "print(f\"Data testing shape\\t: {x_test.shape[:]}\")\n",
    "print(f\"Label training shape\\t: {y_train.shape[:]}\")\n",
    "print(f\"Label testing shape\\t: {y_test.shape[:]}\")\n",
    "\n",
    "print(f\"\\nData training sample\\t:\\n,{x_train.head()}\")\n",
    "print(f\"\\nLabel training sample\\t:\\n,{y_train.head()}\")"
   ]
  },
  {
   "cell_type": "code",
   "execution_count": 7,
   "metadata": {},
   "outputs": [],
   "source": [
    "# x_resampled, y_resampled = MLSMOTE(x_train, y_train, 100)\n",
    "\n",
    "# print(f\"Data training shape\\t: {x_resampled.shape[:]}\")\n",
    "# print(f\"Label training shape\\t: {y_resampled.shape[:]}\")"
   ]
  },
  {
   "cell_type": "code",
   "execution_count": null,
   "metadata": {},
   "outputs": [],
   "source": [
    "def f1_score(y_true, y_pred):\n",
    "    y_pred_classes = K.round(y_pred)\n",
    "    tp = K.sum(K.cast(y_true * y_pred_classes, 'float'), axis=0)\n",
    "    fp = K.sum(K.cast((1 - y_true) * y_pred_classes, 'float'), axis=0)\n",
    "    fn = K.sum(K.cast(y_true * (1 - y_pred_classes), 'float'), axis=0)\n",
    "\n",
    "    precision = tp / (tp + fp + K.epsilon())\n",
    "    recall = tp / (tp + fn + K.epsilon())\n",
    "    f1 = 2 * (precision * recall) / (precision + recall + K.epsilon())\n",
    "    return K.mean(f1)"
   ]
  },
  {
   "cell_type": "code",
   "execution_count": 57,
   "metadata": {},
   "outputs": [],
   "source": [
    "model = tf.keras.Sequential([\n",
    "    tf.keras.Input(shape=(INPUT_SHAPE,)),\n",
    "    tf.keras.layers.Dense(64, activation='relu', kernel_regularizer=tf.keras.regularizers.l2(0.01), name='dense_layer_1'),\n",
    "    tf.keras.layers.Dropout(0.5, name='dropout_layer_1'),\n",
    "    tf.keras.layers.Dense(32, activation='relu',kernel_regularizer=tf.keras.regularizers.l2(0.01), name='dense_layer_2'),\n",
    "    tf.keras.layers.Dropout(0.3, name='dropout_layer_2'),\n",
    "    tf.keras.layers.Dense(OUTPUT_SHAPE, activation='sigmoid', name='output_layer')\n",
    "])"
   ]
  },
  {
   "cell_type": "code",
   "execution_count": 58,
   "metadata": {},
   "outputs": [
    {
     "name": "stdout",
     "output_type": "stream",
     "text": [
      "Model: \"sequential_7\"\n",
      "_________________________________________________________________\n",
      " Layer (type)                Output Shape              Param #   \n",
      "=================================================================\n",
      " dense_layer_1 (Dense)       (None, 64)                3136      \n",
      "                                                                 \n",
      " dropout_layer_1 (Dropout)   (None, 64)                0         \n",
      "                                                                 \n",
      " dense_layer_2 (Dense)       (None, 32)                2080      \n",
      "                                                                 \n",
      " dropout_layer_2 (Dropout)   (None, 32)                0         \n",
      "                                                                 \n",
      " output_layer (Dense)        (None, 6)                 198       \n",
      "                                                                 \n",
      "=================================================================\n",
      "Total params: 5414 (21.15 KB)\n",
      "Trainable params: 5414 (21.15 KB)\n",
      "Non-trainable params: 0 (0.00 Byte)\n",
      "_________________________________________________________________\n"
     ]
    }
   ],
   "source": [
    "model.summary()"
   ]
  },
  {
   "cell_type": "code",
   "execution_count": 59,
   "metadata": {},
   "outputs": [],
   "source": [
    "model.compile(optimizer=tf.keras.optimizers.Adam(learning_rate=0.00001),\n",
    "              loss='binary_crossentropy',\n",
    "              metrics=[f1_score])"
   ]
  },
  {
   "cell_type": "code",
   "execution_count": 60,
   "metadata": {},
   "outputs": [
    {
     "name": "stdout",
     "output_type": "stream",
     "text": [
      "Epoch 1/100\n",
      "1698/1698 [==============================] - 6s 3ms/step - loss: 1.8435 - f1_score: 0.3444 - val_loss: 1.5081 - val_f1_score: 0.3124\n",
      "Epoch 2/100\n",
      "1698/1698 [==============================] - 5s 3ms/step - loss: 1.5477 - f1_score: 0.3625 - val_loss: 1.3549 - val_f1_score: 0.3892\n",
      "Epoch 3/100\n",
      "1698/1698 [==============================] - 4s 3ms/step - loss: 1.3707 - f1_score: 0.3959 - val_loss: 1.2160 - val_f1_score: 0.4531\n",
      "Epoch 4/100\n",
      "1698/1698 [==============================] - 4s 2ms/step - loss: 1.2299 - f1_score: 0.4244 - val_loss: 1.0906 - val_f1_score: 0.4770\n",
      "Epoch 5/100\n",
      "1698/1698 [==============================] - 4s 2ms/step - loss: 1.1080 - f1_score: 0.4450 - val_loss: 0.9781 - val_f1_score: 0.4941\n",
      "Epoch 6/100\n",
      "1698/1698 [==============================] - 4s 2ms/step - loss: 1.0011 - f1_score: 0.4599 - val_loss: 0.8790 - val_f1_score: 0.5139\n",
      "Epoch 7/100\n",
      "1698/1698 [==============================] - 5s 3ms/step - loss: 0.9081 - f1_score: 0.4799 - val_loss: 0.7917 - val_f1_score: 0.5316\n",
      "Epoch 8/100\n",
      "1698/1698 [==============================] - 4s 2ms/step - loss: 0.8258 - f1_score: 0.5007 - val_loss: 0.7154 - val_f1_score: 0.5543\n",
      "Epoch 9/100\n",
      "1698/1698 [==============================] - 4s 2ms/step - loss: 0.7550 - f1_score: 0.5225 - val_loss: 0.6496 - val_f1_score: 0.5859\n",
      "Epoch 10/100\n",
      "1698/1698 [==============================] - 4s 2ms/step - loss: 0.6958 - f1_score: 0.5429 - val_loss: 0.5933 - val_f1_score: 0.6150\n",
      "Epoch 11/100\n",
      "1698/1698 [==============================] - 4s 2ms/step - loss: 0.6453 - f1_score: 0.5640 - val_loss: 0.5465 - val_f1_score: 0.6380\n",
      "Epoch 12/100\n",
      "1698/1698 [==============================] - 4s 2ms/step - loss: 0.6026 - f1_score: 0.5825 - val_loss: 0.5066 - val_f1_score: 0.6531\n",
      "Epoch 13/100\n",
      "1698/1698 [==============================] - 4s 2ms/step - loss: 0.5673 - f1_score: 0.5968 - val_loss: 0.4754 - val_f1_score: 0.6682\n",
      "Epoch 14/100\n",
      "1698/1698 [==============================] - 4s 2ms/step - loss: 0.5382 - f1_score: 0.6113 - val_loss: 0.4494 - val_f1_score: 0.6785\n",
      "Epoch 15/100\n",
      "1698/1698 [==============================] - 4s 2ms/step - loss: 0.5128 - f1_score: 0.6223 - val_loss: 0.4282 - val_f1_score: 0.6867\n",
      "Epoch 16/100\n",
      "1698/1698 [==============================] - 4s 3ms/step - loss: 0.4916 - f1_score: 0.6338 - val_loss: 0.4106 - val_f1_score: 0.6940\n",
      "Epoch 17/100\n",
      "1698/1698 [==============================] - 4s 2ms/step - loss: 0.4735 - f1_score: 0.6405 - val_loss: 0.3953 - val_f1_score: 0.6982\n",
      "Epoch 18/100\n",
      "1698/1698 [==============================] - 4s 2ms/step - loss: 0.4586 - f1_score: 0.6480 - val_loss: 0.3823 - val_f1_score: 0.7041\n",
      "Epoch 19/100\n",
      "1698/1698 [==============================] - 4s 2ms/step - loss: 0.4447 - f1_score: 0.6532 - val_loss: 0.3711 - val_f1_score: 0.7088\n",
      "Epoch 20/100\n",
      "1698/1698 [==============================] - 5s 3ms/step - loss: 0.4326 - f1_score: 0.6599 - val_loss: 0.3608 - val_f1_score: 0.7128\n",
      "Epoch 21/100\n",
      "1698/1698 [==============================] - 4s 3ms/step - loss: 0.4223 - f1_score: 0.6612 - val_loss: 0.3518 - val_f1_score: 0.7155\n",
      "Epoch 22/100\n",
      "1698/1698 [==============================] - 4s 2ms/step - loss: 0.4136 - f1_score: 0.6667 - val_loss: 0.3440 - val_f1_score: 0.7180\n",
      "Epoch 23/100\n",
      "1698/1698 [==============================] - 4s 3ms/step - loss: 0.4050 - f1_score: 0.6692 - val_loss: 0.3369 - val_f1_score: 0.7231\n",
      "Epoch 24/100\n",
      "1698/1698 [==============================] - 4s 2ms/step - loss: 0.3967 - f1_score: 0.6735 - val_loss: 0.3304 - val_f1_score: 0.7264\n",
      "Epoch 25/100\n",
      "1698/1698 [==============================] - 4s 2ms/step - loss: 0.3905 - f1_score: 0.6761 - val_loss: 0.3247 - val_f1_score: 0.7290\n",
      "Epoch 26/100\n",
      "1698/1698 [==============================] - 4s 2ms/step - loss: 0.3855 - f1_score: 0.6794 - val_loss: 0.3196 - val_f1_score: 0.7315\n",
      "Epoch 27/100\n",
      "1698/1698 [==============================] - 4s 3ms/step - loss: 0.3797 - f1_score: 0.6806 - val_loss: 0.3151 - val_f1_score: 0.7336\n",
      "Epoch 28/100\n",
      "1698/1698 [==============================] - 4s 3ms/step - loss: 0.3743 - f1_score: 0.6844 - val_loss: 0.3102 - val_f1_score: 0.7380\n",
      "Epoch 29/100\n",
      "1698/1698 [==============================] - 4s 2ms/step - loss: 0.3696 - f1_score: 0.6887 - val_loss: 0.3061 - val_f1_score: 0.7380\n",
      "Epoch 30/100\n",
      "1698/1698 [==============================] - 4s 2ms/step - loss: 0.3662 - f1_score: 0.6890 - val_loss: 0.3027 - val_f1_score: 0.7414\n",
      "Epoch 31/100\n",
      "1698/1698 [==============================] - 4s 2ms/step - loss: 0.3622 - f1_score: 0.6919 - val_loss: 0.2990 - val_f1_score: 0.7453\n",
      "Epoch 32/100\n",
      "1698/1698 [==============================] - 4s 2ms/step - loss: 0.3576 - f1_score: 0.6962 - val_loss: 0.2953 - val_f1_score: 0.7470\n",
      "Epoch 33/100\n",
      "1698/1698 [==============================] - 4s 2ms/step - loss: 0.3548 - f1_score: 0.6968 - val_loss: 0.2924 - val_f1_score: 0.7490\n",
      "Epoch 34/100\n",
      "1698/1698 [==============================] - 5s 3ms/step - loss: 0.3514 - f1_score: 0.6994 - val_loss: 0.2895 - val_f1_score: 0.7532\n",
      "Epoch 35/100\n",
      "1698/1698 [==============================] - 4s 2ms/step - loss: 0.3491 - f1_score: 0.7013 - val_loss: 0.2869 - val_f1_score: 0.7550\n",
      "Epoch 36/100\n",
      "1698/1698 [==============================] - 4s 3ms/step - loss: 0.3466 - f1_score: 0.7045 - val_loss: 0.2843 - val_f1_score: 0.7567\n",
      "Epoch 37/100\n",
      "1698/1698 [==============================] - 4s 2ms/step - loss: 0.3428 - f1_score: 0.7076 - val_loss: 0.2812 - val_f1_score: 0.7587\n",
      "Epoch 38/100\n",
      "1698/1698 [==============================] - 4s 3ms/step - loss: 0.3405 - f1_score: 0.7090 - val_loss: 0.2790 - val_f1_score: 0.7632\n",
      "Epoch 39/100\n",
      "1698/1698 [==============================] - 4s 2ms/step - loss: 0.3382 - f1_score: 0.7126 - val_loss: 0.2767 - val_f1_score: 0.7645\n",
      "Epoch 40/100\n",
      "1698/1698 [==============================] - 4s 3ms/step - loss: 0.3357 - f1_score: 0.7123 - val_loss: 0.2744 - val_f1_score: 0.7671\n",
      "Epoch 41/100\n",
      "1698/1698 [==============================] - 4s 2ms/step - loss: 0.3336 - f1_score: 0.7145 - val_loss: 0.2723 - val_f1_score: 0.7710\n",
      "Epoch 42/100\n",
      "1698/1698 [==============================] - 4s 3ms/step - loss: 0.3316 - f1_score: 0.7164 - val_loss: 0.2703 - val_f1_score: 0.7710\n",
      "Epoch 43/100\n",
      "1698/1698 [==============================] - 4s 2ms/step - loss: 0.3288 - f1_score: 0.7181 - val_loss: 0.2681 - val_f1_score: 0.7739\n",
      "Epoch 44/100\n",
      "1698/1698 [==============================] - 4s 3ms/step - loss: 0.3281 - f1_score: 0.7202 - val_loss: 0.2662 - val_f1_score: 0.7769\n",
      "Epoch 45/100\n",
      "1698/1698 [==============================] - 4s 2ms/step - loss: 0.3253 - f1_score: 0.7223 - val_loss: 0.2645 - val_f1_score: 0.7792\n",
      "Epoch 46/100\n",
      "1698/1698 [==============================] - 4s 3ms/step - loss: 0.3239 - f1_score: 0.7240 - val_loss: 0.2624 - val_f1_score: 0.7808\n",
      "Epoch 47/100\n",
      "1698/1698 [==============================] - 4s 3ms/step - loss: 0.3217 - f1_score: 0.7267 - val_loss: 0.2606 - val_f1_score: 0.7825\n",
      "Epoch 48/100\n",
      "1698/1698 [==============================] - 4s 2ms/step - loss: 0.3195 - f1_score: 0.7272 - val_loss: 0.2585 - val_f1_score: 0.7834\n",
      "Epoch 49/100\n",
      "1698/1698 [==============================] - 4s 3ms/step - loss: 0.3181 - f1_score: 0.7297 - val_loss: 0.2569 - val_f1_score: 0.7853\n",
      "Epoch 50/100\n",
      "1698/1698 [==============================] - 4s 2ms/step - loss: 0.3164 - f1_score: 0.7327 - val_loss: 0.2553 - val_f1_score: 0.7883\n",
      "Epoch 51/100\n",
      "1698/1698 [==============================] - 4s 3ms/step - loss: 0.3145 - f1_score: 0.7344 - val_loss: 0.2535 - val_f1_score: 0.7899\n",
      "Epoch 52/100\n",
      "1698/1698 [==============================] - 4s 2ms/step - loss: 0.3125 - f1_score: 0.7366 - val_loss: 0.2514 - val_f1_score: 0.7949\n",
      "Epoch 53/100\n",
      "1698/1698 [==============================] - 4s 3ms/step - loss: 0.3114 - f1_score: 0.7375 - val_loss: 0.2503 - val_f1_score: 0.7939\n",
      "Epoch 54/100\n",
      "1698/1698 [==============================] - 4s 2ms/step - loss: 0.3101 - f1_score: 0.7390 - val_loss: 0.2490 - val_f1_score: 0.7961\n",
      "Epoch 55/100\n",
      "1698/1698 [==============================] - 4s 2ms/step - loss: 0.3087 - f1_score: 0.7410 - val_loss: 0.2473 - val_f1_score: 0.7981\n",
      "Epoch 56/100\n",
      "1698/1698 [==============================] - 4s 2ms/step - loss: 0.3070 - f1_score: 0.7421 - val_loss: 0.2457 - val_f1_score: 0.8001\n",
      "Epoch 57/100\n",
      "1698/1698 [==============================] - 4s 3ms/step - loss: 0.3050 - f1_score: 0.7436 - val_loss: 0.2441 - val_f1_score: 0.8018\n",
      "Epoch 58/100\n",
      "1698/1698 [==============================] - 5s 3ms/step - loss: 0.3038 - f1_score: 0.7462 - val_loss: 0.2428 - val_f1_score: 0.8074\n",
      "Epoch 59/100\n",
      "1698/1698 [==============================] - 5s 3ms/step - loss: 0.3026 - f1_score: 0.7471 - val_loss: 0.2414 - val_f1_score: 0.8052\n",
      "Epoch 60/100\n",
      "1698/1698 [==============================] - 4s 2ms/step - loss: 0.3010 - f1_score: 0.7490 - val_loss: 0.2399 - val_f1_score: 0.8060\n",
      "Epoch 61/100\n",
      "1698/1698 [==============================] - 4s 2ms/step - loss: 0.2992 - f1_score: 0.7506 - val_loss: 0.2383 - val_f1_score: 0.8098\n",
      "Epoch 62/100\n",
      "1698/1698 [==============================] - 4s 2ms/step - loss: 0.2976 - f1_score: 0.7526 - val_loss: 0.2371 - val_f1_score: 0.8110\n",
      "Epoch 63/100\n",
      "1698/1698 [==============================] - 4s 3ms/step - loss: 0.2967 - f1_score: 0.7544 - val_loss: 0.2356 - val_f1_score: 0.8154\n",
      "Epoch 64/100\n",
      "1698/1698 [==============================] - 4s 3ms/step - loss: 0.2950 - f1_score: 0.7561 - val_loss: 0.2343 - val_f1_score: 0.8130\n",
      "Epoch 65/100\n",
      "1698/1698 [==============================] - 4s 3ms/step - loss: 0.2938 - f1_score: 0.7590 - val_loss: 0.2329 - val_f1_score: 0.8183\n",
      "Epoch 66/100\n",
      "1698/1698 [==============================] - 5s 3ms/step - loss: 0.2923 - f1_score: 0.7598 - val_loss: 0.2316 - val_f1_score: 0.8194\n",
      "Epoch 67/100\n",
      "1698/1698 [==============================] - 4s 2ms/step - loss: 0.2913 - f1_score: 0.7594 - val_loss: 0.2304 - val_f1_score: 0.8197\n",
      "Epoch 68/100\n",
      "1698/1698 [==============================] - 4s 3ms/step - loss: 0.2897 - f1_score: 0.7637 - val_loss: 0.2289 - val_f1_score: 0.8214\n",
      "Epoch 69/100\n",
      "1698/1698 [==============================] - 4s 2ms/step - loss: 0.2887 - f1_score: 0.7650 - val_loss: 0.2278 - val_f1_score: 0.8239\n",
      "Epoch 70/100\n",
      "1698/1698 [==============================] - 4s 2ms/step - loss: 0.2875 - f1_score: 0.7670 - val_loss: 0.2265 - val_f1_score: 0.8240\n",
      "Epoch 71/100\n",
      "1698/1698 [==============================] - 4s 2ms/step - loss: 0.2866 - f1_score: 0.7668 - val_loss: 0.2254 - val_f1_score: 0.8259\n",
      "Epoch 72/100\n",
      "1698/1698 [==============================] - 4s 3ms/step - loss: 0.2845 - f1_score: 0.7695 - val_loss: 0.2238 - val_f1_score: 0.8267\n",
      "Epoch 73/100\n",
      "1698/1698 [==============================] - 5s 3ms/step - loss: 0.2834 - f1_score: 0.7699 - val_loss: 0.2228 - val_f1_score: 0.8293\n",
      "Epoch 74/100\n",
      "1698/1698 [==============================] - 4s 3ms/step - loss: 0.2828 - f1_score: 0.7714 - val_loss: 0.2217 - val_f1_score: 0.8309\n",
      "Epoch 75/100\n",
      "1698/1698 [==============================] - 4s 2ms/step - loss: 0.2813 - f1_score: 0.7742 - val_loss: 0.2205 - val_f1_score: 0.8333\n",
      "Epoch 76/100\n",
      "1698/1698 [==============================] - 4s 3ms/step - loss: 0.2804 - f1_score: 0.7743 - val_loss: 0.2193 - val_f1_score: 0.8320\n",
      "Epoch 77/100\n",
      "1698/1698 [==============================] - 5s 3ms/step - loss: 0.2791 - f1_score: 0.7750 - val_loss: 0.2182 - val_f1_score: 0.8351\n",
      "Epoch 78/100\n",
      "1698/1698 [==============================] - 4s 2ms/step - loss: 0.2780 - f1_score: 0.7766 - val_loss: 0.2171 - val_f1_score: 0.8352\n",
      "Epoch 79/100\n",
      "1698/1698 [==============================] - 4s 2ms/step - loss: 0.2771 - f1_score: 0.7774 - val_loss: 0.2160 - val_f1_score: 0.8379\n",
      "Epoch 80/100\n",
      "1698/1698 [==============================] - 4s 2ms/step - loss: 0.2759 - f1_score: 0.7792 - val_loss: 0.2150 - val_f1_score: 0.8417\n",
      "Epoch 81/100\n",
      "1698/1698 [==============================] - 4s 3ms/step - loss: 0.2745 - f1_score: 0.7817 - val_loss: 0.2137 - val_f1_score: 0.8416\n",
      "Epoch 82/100\n",
      "1698/1698 [==============================] - 4s 2ms/step - loss: 0.2734 - f1_score: 0.7835 - val_loss: 0.2128 - val_f1_score: 0.8401\n",
      "Epoch 83/100\n",
      "1698/1698 [==============================] - 4s 2ms/step - loss: 0.2727 - f1_score: 0.7841 - val_loss: 0.2118 - val_f1_score: 0.8417\n",
      "Epoch 84/100\n",
      "1698/1698 [==============================] - 4s 3ms/step - loss: 0.2718 - f1_score: 0.7836 - val_loss: 0.2106 - val_f1_score: 0.8432\n",
      "Epoch 85/100\n",
      "1698/1698 [==============================] - 4s 3ms/step - loss: 0.2708 - f1_score: 0.7859 - val_loss: 0.2095 - val_f1_score: 0.8462\n",
      "Epoch 86/100\n",
      "1698/1698 [==============================] - 4s 3ms/step - loss: 0.2694 - f1_score: 0.7880 - val_loss: 0.2088 - val_f1_score: 0.8487\n",
      "Epoch 87/100\n",
      "1698/1698 [==============================] - 4s 2ms/step - loss: 0.2684 - f1_score: 0.7888 - val_loss: 0.2075 - val_f1_score: 0.8473\n",
      "Epoch 88/100\n",
      "1698/1698 [==============================] - 4s 2ms/step - loss: 0.2675 - f1_score: 0.7895 - val_loss: 0.2068 - val_f1_score: 0.8482\n",
      "Epoch 89/100\n",
      "1698/1698 [==============================] - 4s 3ms/step - loss: 0.2663 - f1_score: 0.7899 - val_loss: 0.2055 - val_f1_score: 0.8503\n",
      "Epoch 90/100\n",
      "1698/1698 [==============================] - 4s 2ms/step - loss: 0.2657 - f1_score: 0.7911 - val_loss: 0.2048 - val_f1_score: 0.8524\n",
      "Epoch 91/100\n",
      "1698/1698 [==============================] - 5s 3ms/step - loss: 0.2650 - f1_score: 0.7916 - val_loss: 0.2038 - val_f1_score: 0.8528\n",
      "Epoch 92/100\n",
      "1698/1698 [==============================] - 4s 2ms/step - loss: 0.2647 - f1_score: 0.7920 - val_loss: 0.2030 - val_f1_score: 0.8543\n",
      "Epoch 93/100\n",
      "1698/1698 [==============================] - 4s 2ms/step - loss: 0.2637 - f1_score: 0.7936 - val_loss: 0.2022 - val_f1_score: 0.8563\n",
      "Epoch 94/100\n",
      "1698/1698 [==============================] - 4s 2ms/step - loss: 0.2623 - f1_score: 0.7950 - val_loss: 0.2010 - val_f1_score: 0.8554\n",
      "Epoch 95/100\n",
      "1698/1698 [==============================] - 4s 2ms/step - loss: 0.2615 - f1_score: 0.7958 - val_loss: 0.2004 - val_f1_score: 0.8562\n",
      "Epoch 96/100\n",
      "1698/1698 [==============================] - 4s 2ms/step - loss: 0.2601 - f1_score: 0.7963 - val_loss: 0.1994 - val_f1_score: 0.8579\n",
      "Epoch 97/100\n",
      "1698/1698 [==============================] - 4s 2ms/step - loss: 0.2593 - f1_score: 0.7992 - val_loss: 0.1987 - val_f1_score: 0.8586\n",
      "Epoch 98/100\n",
      "1698/1698 [==============================] - 5s 3ms/step - loss: 0.2589 - f1_score: 0.7983 - val_loss: 0.1977 - val_f1_score: 0.8608\n",
      "Epoch 99/100\n",
      "1698/1698 [==============================] - 4s 3ms/step - loss: 0.2584 - f1_score: 0.7991 - val_loss: 0.1970 - val_f1_score: 0.8607\n",
      "Epoch 100/100\n",
      "1698/1698 [==============================] - 4s 2ms/step - loss: 0.2568 - f1_score: 0.8016 - val_loss: 0.1961 - val_f1_score: 0.8610\n"
     ]
    }
   ],
   "source": [
    "history = model.fit(x_train, y_train, epochs=100, batch_size=BATCH_SIZE, validation_data=(x_test, y_test), verbose=1)"
   ]
  },
  {
   "cell_type": "code",
   "execution_count": 61,
   "metadata": {},
   "outputs": [
    {
     "name": "stdout",
     "output_type": "stream",
     "text": [
      "849/849 [==============================] - 1s 1ms/step - loss: 0.1961 - f1_score: 0.8498\n",
      "Loss: 0.19607704877853394, F1 Score: 0.8497892618179321\n"
     ]
    }
   ],
   "source": [
    "results = model.evaluate(x_test, y_test)\n",
    "print(f\"Loss: {results[0]}, F1 Score: {results[1]}\")"
   ]
  },
  {
   "cell_type": "code",
   "execution_count": 62,
   "metadata": {},
   "outputs": [
    {
     "data": {
      "image/png": "[encoded data removed]",
      "text/plain": [
       "<Figure size 1200x500 with 2 Axes>"
      ]
     },
     "metadata": {},
     "output_type": "display_data"
    }
   ],
   "source": [
    "plt.figure(figsize=(12, 5))\n",
    "\n",
    "plt.subplot(1, 2, 1)\n",
    "plt.plot(history.history['loss'], label='Training Loss')\n",
    "plt.plot(history.history['val_loss'], label='Validation Loss') \n",
    "plt.title('Loss over Epochs')\n",
    "plt.xlabel('Epochs')\n",
    "plt.ylabel('Loss')\n",
    "plt.legend()\n",
    "\n",
    "plt.subplot(1, 2, 2)\n",
    "plt.plot(history.history['f1_score'], label='Training Accuracy')\n",
    "plt.plot(history.history['val_f1_score'], label='Validation Accuracy')\n",
    "plt.title('Accuracy over Epochs')\n",
    "plt.xlabel('Epochs')\n",
    "plt.ylabel('Accuracy')\n",
    "plt.legend()\n",
    "\n",
    "plt.show()"
   ]
  },
  {
   "cell_type": "code",
   "execution_count": 63,
   "metadata": {},
   "outputs": [
    {
     "name": "stdout",
     "output_type": "stream",
     "text": [
      "WARNING:tensorflow:6 out of the last 8 calls to <function Model.make_predict_function.<locals>.predict_function at 0x000001B961DEDF80> triggered tf.function retracing. Tracing is expensive and the excessive number of tracings could be due to (1) creating @tf.function repeatedly in a loop, (2) passing tensors with different shapes, (3) passing Python objects instead of tensors. For (1), please define your @tf.function outside of the loop. For (2), @tf.function has reduce_retracing=True option that can avoid unnecessary retracing. For (3), please refer to https://www.tensorflow.org/guide/function#controlling_retracing and https://www.tensorflow.org/api_docs/python/tf/function for  more details.\n",
      "1/1 [==============================] - 0s 84ms/step\n",
      "Probabilitas Prediksi: [[0.46828842 0.012915   0.10307809 0.00683691 0.12175385 0.65353876]]\n",
      "Hasil Biner: [[1 0 0 0 0 1]]\n"
     ]
    }
   ],
   "source": [
    "new_data = np.array([[4,4,4,5,2,2,1,1,4,1,1,4,1,2,1,1,1,1,2,4,4,2,3,5,2,1,1,1,1,1,1,4,2,5,5,1,2,1,4,1,3,4,5,2,3,1,2,4]])\n",
    "\n",
    "predictions = model.predict(new_data)\n",
    "binary_predictions = (predictions >= THRESHOLD).astype(int)\n",
    "\n",
    "print(\"Probabilitas Prediksi:\", predictions)\n",
    "print(\"Hasil Biner:\", binary_predictions)"
   ]
  },
  {
   "cell_type": "code",
   "execution_count": null,
   "metadata": {},
   "outputs": [],
   "source": []
  }
 ],
 "metadata": {
  "kernelspec": {
   "display_name": "Python 3",
   "language": "python",
   "name": "python3"
  },
  "language_info": {
   "codemirror_mode": {
    "name": "ipython",
    "version": 3
   },
   "file_extension": ".py",
   "mimetype": "text/x-python",
   "name": "python",
   "nbconvert_exporter": "python",
   "pygments_lexer": "ipython3",
   "version": "3.11.9"
  }
 },
 "nbformat": 4,
 "nbformat_minor": 2
}

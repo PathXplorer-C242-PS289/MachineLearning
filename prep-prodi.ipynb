{
 "cells": [
  {
   "cell_type": "markdown",
   "metadata": {},
   "source": [
    "## Import All Necessary Packages/Library"
   ]
  },
  {
   "cell_type": "code",
   "execution_count": 18,
   "metadata": {},
   "outputs": [],
   "source": [
    "import pandas as pd"
   ]
  },
  {
   "cell_type": "markdown",
   "metadata": {},
   "source": [
    "## Data Wrangling"
   ]
  },
  {
   "cell_type": "markdown",
   "metadata": {},
   "source": [
    "### Gathering Data"
   ]
  },
  {
   "cell_type": "code",
   "execution_count": 19,
   "metadata": {},
   "outputs": [
    {
     "data": {
      "text/html": [
       "<div>\n",
       "<style scoped>\n",
       "    .dataframe tbody tr th:only-of-type {\n",
       "        vertical-align: middle;\n",
       "    }\n",
       "\n",
       "    .dataframe tbody tr th {\n",
       "        vertical-align: top;\n",
       "    }\n",
       "\n",
       "    .dataframe thead th {\n",
       "        text-align: right;\n",
       "    }\n",
       "</style>\n",
       "<table border=\"1\" class=\"dataframe\">\n",
       "  <thead>\n",
       "    <tr style=\"text-align: right;\">\n",
       "      <th></th>\n",
       "      <th>No</th>\n",
       "      <th>Nama Prodi</th>\n",
       "      <th>Nama PT</th>\n",
       "      <th>Jenjang</th>\n",
       "      <th>LLDikti</th>\n",
       "      <th>Unnamed: 5</th>\n",
       "    </tr>\n",
       "  </thead>\n",
       "  <tbody>\n",
       "    <tr>\n",
       "      <th>0</th>\n",
       "      <td>1</td>\n",
       "      <td>ADMINISTRASI RUMAH SAKIT</td>\n",
       "      <td>AKADEMI ADMINISTRASI RUMAH SAKIT MATARAM</td>\n",
       "      <td>D-III</td>\n",
       "      <td>8.0</td>\n",
       "      <td>NaN</td>\n",
       "    </tr>\n",
       "    <tr>\n",
       "      <th>1</th>\n",
       "      <td>2</td>\n",
       "      <td>Akuntansi</td>\n",
       "      <td>Akademi Akuntansi (AKTAN) Boekittinggi</td>\n",
       "      <td>D-III</td>\n",
       "      <td>10.0</td>\n",
       "      <td>NaN</td>\n",
       "    </tr>\n",
       "    <tr>\n",
       "      <th>2</th>\n",
       "      <td>3</td>\n",
       "      <td>Akuntansi</td>\n",
       "      <td>Akademi Akuntansi Bandung</td>\n",
       "      <td>D-III</td>\n",
       "      <td>4.0</td>\n",
       "      <td>NaN</td>\n",
       "    </tr>\n",
       "    <tr>\n",
       "      <th>3</th>\n",
       "      <td>4</td>\n",
       "      <td>Akuntansi</td>\n",
       "      <td>Akademi Akuntansi Bina Insani</td>\n",
       "      <td>D-III</td>\n",
       "      <td>4.0</td>\n",
       "      <td>NaN</td>\n",
       "    </tr>\n",
       "    <tr>\n",
       "      <th>4</th>\n",
       "      <td>5</td>\n",
       "      <td>Akuntansi</td>\n",
       "      <td>Akademi Akuntansi Borobudur</td>\n",
       "      <td>D-III</td>\n",
       "      <td>3.0</td>\n",
       "      <td>NaN</td>\n",
       "    </tr>\n",
       "  </tbody>\n",
       "</table>\n",
       "</div>"
      ],
      "text/plain": [
       "   No                Nama Prodi                                   Nama PT  \\\n",
       "0   1  ADMINISTRASI RUMAH SAKIT  AKADEMI ADMINISTRASI RUMAH SAKIT MATARAM   \n",
       "1   2                 Akuntansi    Akademi Akuntansi (AKTAN) Boekittinggi   \n",
       "2   3                 Akuntansi                 Akademi Akuntansi Bandung   \n",
       "3   4                 Akuntansi             Akademi Akuntansi Bina Insani   \n",
       "4   5                 Akuntansi               Akademi Akuntansi Borobudur   \n",
       "\n",
       "  Jenjang  LLDikti Unnamed: 5  \n",
       "0   D-III      8.0        NaN  \n",
       "1   D-III     10.0        NaN  \n",
       "2   D-III      4.0        NaN  \n",
       "3   D-III      4.0        NaN  \n",
       "4   D-III      3.0        NaN  "
      ]
     },
     "execution_count": 19,
     "metadata": {},
     "output_type": "execute_result"
    }
   ],
   "source": [
    "prodi_df = pd.read_csv(\"data\\prodi\\program-studi.csv\")\n",
    "prodi_df.head()"
   ]
  },
  {
   "cell_type": "markdown",
   "metadata": {},
   "source": [
    "### Assessing Data "
   ]
  },
  {
   "cell_type": "code",
   "execution_count": 20,
   "metadata": {},
   "outputs": [
    {
     "name": "stdout",
     "output_type": "stream",
     "text": [
      "(25538, 6)\n"
     ]
    }
   ],
   "source": [
    "print(prodi_df.shape)"
   ]
  },
  {
   "cell_type": "code",
   "execution_count": 4,
   "metadata": {},
   "outputs": [
    {
     "name": "stdout",
     "output_type": "stream",
     "text": [
      "<class 'pandas.core.frame.DataFrame'>\n",
      "RangeIndex: 25538 entries, 0 to 25537\n",
      "Data columns (total 6 columns):\n",
      " #   Column      Non-Null Count  Dtype  \n",
      "---  ------      --------------  -----  \n",
      " 0   No          25538 non-null  int64  \n",
      " 1   Nama Prodi  25538 non-null  object \n",
      " 2   Nama PT     25408 non-null  object \n",
      " 3   Jenjang     22222 non-null  object \n",
      " 4   LLDikti     11893 non-null  float64\n",
      " 5   Unnamed: 5  1 non-null      object \n",
      "dtypes: float64(1), int64(1), object(4)\n",
      "memory usage: 1.2+ MB\n"
     ]
    }
   ],
   "source": [
    "prodi_df.info()"
   ]
  },
  {
   "cell_type": "code",
   "execution_count": 5,
   "metadata": {},
   "outputs": [
    {
     "data": {
      "text/plain": [
       "No                0\n",
       "Nama Prodi        0\n",
       "Nama PT         130\n",
       "Jenjang        3316\n",
       "LLDikti       13645\n",
       "Unnamed: 5    25537\n",
       "dtype: int64"
      ]
     },
     "execution_count": 5,
     "metadata": {},
     "output_type": "execute_result"
    }
   ],
   "source": [
    "prodi_df.isna().sum()"
   ]
  },
  {
   "cell_type": "markdown",
   "metadata": {},
   "source": [
    "It appears that there are missing values in the 'Nama PT', 'Jenjang', 'LLDikti', and 'Unnamed: 5' columns"
   ]
  },
  {
   "cell_type": "code",
   "execution_count": 6,
   "metadata": {},
   "outputs": [
    {
     "name": "stdout",
     "output_type": "stream",
     "text": [
      "Jumlah duplikasi data =  0\n"
     ]
    }
   ],
   "source": [
    "print(\"Jumlah duplikasi data = \", prodi_df.duplicated().sum())"
   ]
  },
  {
   "cell_type": "markdown",
   "metadata": {},
   "source": [
    "there's no duplicate data in this datasets"
   ]
  },
  {
   "cell_type": "markdown",
   "metadata": {},
   "source": [
    "### Cleaning Data"
   ]
  },
  {
   "cell_type": "markdown",
   "metadata": {},
   "source": [
    "Initially, we dropped the columns 'LLDikti' and 'Unnamed: 5' because the data in these columns was not used."
   ]
  },
  {
   "cell_type": "code",
   "execution_count": 23,
   "metadata": {},
   "outputs": [
    {
     "data": {
      "text/html": [
       "<div>\n",
       "<style scoped>\n",
       "    .dataframe tbody tr th:only-of-type {\n",
       "        vertical-align: middle;\n",
       "    }\n",
       "\n",
       "    .dataframe tbody tr th {\n",
       "        vertical-align: top;\n",
       "    }\n",
       "\n",
       "    .dataframe thead th {\n",
       "        text-align: right;\n",
       "    }\n",
       "</style>\n",
       "<table border=\"1\" class=\"dataframe\">\n",
       "  <thead>\n",
       "    <tr style=\"text-align: right;\">\n",
       "      <th></th>\n",
       "      <th>No</th>\n",
       "      <th>Nama Prodi</th>\n",
       "      <th>Nama PT</th>\n",
       "      <th>Jenjang</th>\n",
       "    </tr>\n",
       "  </thead>\n",
       "  <tbody>\n",
       "    <tr>\n",
       "      <th>0</th>\n",
       "      <td>1</td>\n",
       "      <td>ADMINISTRASI RUMAH SAKIT</td>\n",
       "      <td>AKADEMI ADMINISTRASI RUMAH SAKIT MATARAM</td>\n",
       "      <td>D-III</td>\n",
       "    </tr>\n",
       "    <tr>\n",
       "      <th>1</th>\n",
       "      <td>2</td>\n",
       "      <td>Akuntansi</td>\n",
       "      <td>Akademi Akuntansi (AKTAN) Boekittinggi</td>\n",
       "      <td>D-III</td>\n",
       "    </tr>\n",
       "    <tr>\n",
       "      <th>2</th>\n",
       "      <td>3</td>\n",
       "      <td>Akuntansi</td>\n",
       "      <td>Akademi Akuntansi Bandung</td>\n",
       "      <td>D-III</td>\n",
       "    </tr>\n",
       "    <tr>\n",
       "      <th>3</th>\n",
       "      <td>4</td>\n",
       "      <td>Akuntansi</td>\n",
       "      <td>Akademi Akuntansi Bina Insani</td>\n",
       "      <td>D-III</td>\n",
       "    </tr>\n",
       "    <tr>\n",
       "      <th>4</th>\n",
       "      <td>5</td>\n",
       "      <td>Akuntansi</td>\n",
       "      <td>Akademi Akuntansi Borobudur</td>\n",
       "      <td>D-III</td>\n",
       "    </tr>\n",
       "  </tbody>\n",
       "</table>\n",
       "</div>"
      ],
      "text/plain": [
       "   No                Nama Prodi                                   Nama PT  \\\n",
       "0   1  ADMINISTRASI RUMAH SAKIT  AKADEMI ADMINISTRASI RUMAH SAKIT MATARAM   \n",
       "1   2                 Akuntansi    Akademi Akuntansi (AKTAN) Boekittinggi   \n",
       "2   3                 Akuntansi                 Akademi Akuntansi Bandung   \n",
       "3   4                 Akuntansi             Akademi Akuntansi Bina Insani   \n",
       "4   5                 Akuntansi               Akademi Akuntansi Borobudur   \n",
       "\n",
       "  Jenjang  \n",
       "0   D-III  \n",
       "1   D-III  \n",
       "2   D-III  \n",
       "3   D-III  \n",
       "4   D-III  "
      ]
     },
     "execution_count": 23,
     "metadata": {},
     "output_type": "execute_result"
    }
   ],
   "source": [
    "drop_col = ['LLDikti', 'Unnamed: 5']\n",
    "\n",
    "columns_to_drop = ['LLDikti', 'Unnamed: 5']\n",
    "prodi_df = prodi_df.drop(columns=[col for col in columns_to_drop if col in prodi_df.columns], errors='ignore')\n",
    "\n",
    "prodi_df.head()"
   ]
  },
  {
   "cell_type": "code",
   "execution_count": 25,
   "metadata": {},
   "outputs": [
    {
     "name": "stdout",
     "output_type": "stream",
     "text": [
      "<class 'pandas.core.frame.DataFrame'>\n",
      "RangeIndex: 25538 entries, 0 to 25537\n",
      "Data columns (total 4 columns):\n",
      " #   Column      Non-Null Count  Dtype \n",
      "---  ------      --------------  ----- \n",
      " 0   No          25538 non-null  int64 \n",
      " 1   Nama Prodi  25538 non-null  object\n",
      " 2   Nama PT     25408 non-null  object\n",
      " 3   Jenjang     22222 non-null  object\n",
      "dtypes: int64(1), object(3)\n",
      "memory usage: 798.2+ KB\n"
     ]
    }
   ],
   "source": [
    "prodi_df.info()"
   ]
  },
  {
   "cell_type": "markdown",
   "metadata": {},
   "source": [
    "Drop data 'Jenjang' = 'S2', 'S2 Terapan', dan 'S3' because the data was not used."
   ]
  },
  {
   "cell_type": "code",
   "execution_count": 30,
   "metadata": {},
   "outputs": [
    {
     "data": {
      "text/plain": [
       "No               0\n",
       "Nama Prodi       0\n",
       "Nama PT        130\n",
       "Jenjang       3316\n",
       "dtype: int64"
      ]
     },
     "execution_count": 30,
     "metadata": {},
     "output_type": "execute_result"
    }
   ],
   "source": [
    "prodi_df.isna().sum()"
   ]
  },
  {
   "cell_type": "code",
   "execution_count": 31,
   "metadata": {},
   "outputs": [],
   "source": [
    "jenjang_to_remove = ['s2', 's2 terapan', 's3']\n",
    "prodi_df = prodi_df[~prodi_df['Jenjang'].str.lower().isin(jenjang_to_remove)]"
   ]
  },
  {
   "cell_type": "code",
   "execution_count": 32,
   "metadata": {},
   "outputs": [
    {
     "name": "stdout",
     "output_type": "stream",
     "text": [
      "(22107, 4)\n"
     ]
    }
   ],
   "source": [
    "print(prodi_df.shape)"
   ]
  },
  {
   "cell_type": "code",
   "execution_count": 33,
   "metadata": {},
   "outputs": [
    {
     "data": {
      "text/plain": [
       "No               0\n",
       "Nama Prodi       0\n",
       "Nama PT        130\n",
       "Jenjang       3316\n",
       "dtype: int64"
      ]
     },
     "execution_count": 33,
     "metadata": {},
     "output_type": "execute_result"
    }
   ],
   "source": [
    "prodi_df.isna().sum()"
   ]
  },
  {
   "cell_type": "markdown",
   "metadata": {},
   "source": [
    "Handle missing values by removing rows with missing values"
   ]
  },
  {
   "cell_type": "code",
   "execution_count": 34,
   "metadata": {},
   "outputs": [],
   "source": [
    "prodi_df = prodi_df.dropna()"
   ]
  },
  {
   "cell_type": "code",
   "execution_count": 35,
   "metadata": {},
   "outputs": [
    {
     "name": "stdout",
     "output_type": "stream",
     "text": [
      "(18791, 4)\n"
     ]
    }
   ],
   "source": [
    "print(prodi_df.shape)"
   ]
  },
  {
   "cell_type": "code",
   "execution_count": 37,
   "metadata": {},
   "outputs": [
    {
     "data": {
      "text/plain": [
       "No            0\n",
       "Nama Prodi    0\n",
       "Nama PT       0\n",
       "Jenjang       0\n",
       "dtype: int64"
      ]
     },
     "execution_count": 37,
     "metadata": {},
     "output_type": "execute_result"
    }
   ],
   "source": [
    "prodi_df.isna().sum()"
   ]
  },
  {
   "cell_type": "markdown",
   "metadata": {},
   "source": [
    "Cleaning data in S1"
   ]
  },
  {
   "cell_type": "code",
   "execution_count": 38,
   "metadata": {},
   "outputs": [],
   "source": [
    "prodi_df_s1 = prodi_df[prodi_df['Jenjang'].str.strip().str.upper() == 'S1']"
   ]
  },
  {
   "cell_type": "code",
   "execution_count": 39,
   "metadata": {},
   "outputs": [],
   "source": [
    "prodi_df_s1.loc[:, 'Nama Prodi'] = prodi_df_s1['Nama Prodi'].str.strip()\n",
    "prodi_df_s1.loc[:, 'Nama PT'] = prodi_df_s1['Nama PT'].str.strip()\n",
    "prodi_df_s1.loc[:, 'Jenjang'] = prodi_df_s1['Jenjang'].str.strip()"
   ]
  },
  {
   "cell_type": "code",
   "execution_count": 41,
   "metadata": {},
   "outputs": [
    {
     "name": "stdout",
     "output_type": "stream",
     "text": [
      "\n",
      "Data setelah pembersihan (khusus S1):\n",
      "      No                                   Nama Prodi  \\\n",
      "907  908          Pendidikan Guru Madrasah Ibtidaiyah   \n",
      "908  909                              Ekonomi Syariah   \n",
      "909  910  Hukum Keluarga Islam (Ahwal Al Syakhshiyah)   \n",
      "910  911             Hukum Ekonomi Syariah (Muamalah)   \n",
      "911  912                           Pendidikan Biologi   \n",
      "\n",
      "                          Nama PT Jenjang  \n",
      "907  IAI Agus Salim Metro Lampung      S1  \n",
      "908  IAI Agus Salim Metro Lampung      S1  \n",
      "909  IAI Agus Salim Metro Lampung      S1  \n",
      "910                    IAIN Ambon      S1  \n",
      "911                    IAIN Ambon      S1  \n"
     ]
    }
   ],
   "source": [
    "print(\"\\nData setelah pembersihan (khusus S1):\")\n",
    "print(prodi_df_s1.head())"
   ]
  },
  {
   "cell_type": "code",
   "execution_count": 42,
   "metadata": {},
   "outputs": [
    {
     "name": "stdout",
     "output_type": "stream",
     "text": [
      "(18791, 4)\n"
     ]
    }
   ],
   "source": [
    "print(prodi_df.shape)"
   ]
  },
  {
   "cell_type": "code",
   "execution_count": 43,
   "metadata": {},
   "outputs": [
    {
     "data": {
      "text/plain": [
       "No            0\n",
       "Nama Prodi    0\n",
       "Nama PT       0\n",
       "Jenjang       0\n",
       "dtype: int64"
      ]
     },
     "execution_count": 43,
     "metadata": {},
     "output_type": "execute_result"
    }
   ],
   "source": [
    "prodi_df.isna().sum()"
   ]
  },
  {
   "cell_type": "markdown",
   "metadata": {},
   "source": [
    "the missing value in the data The missing values in the data have been removed."
   ]
  },
  {
   "cell_type": "markdown",
   "metadata": {},
   "source": [
    "## Saving Cleaned Datasets"
   ]
  },
  {
   "cell_type": "code",
   "execution_count": null,
   "metadata": {},
   "outputs": [],
   "source": [
    "prodi_df.to_csv('cleaned-data.csv', index=False)\n",
    "print(\"Saved as 'cleaned-data.csv'\")"
   ]
  }
 ],
 "metadata": {
  "kernelspec": {
   "display_name": "base",
   "language": "python",
   "name": "python3"
  },
  "language_info": {
   "codemirror_mode": {
    "name": "ipython",
    "version": 3
   },
   "file_extension": ".py",
   "mimetype": "text/x-python",
   "name": "python",
   "nbconvert_exporter": "python",
   "pygments_lexer": "ipython3",
   "version": "3.11.4"
  }
 },
 "nbformat": 4,
 "nbformat_minor": 2
}

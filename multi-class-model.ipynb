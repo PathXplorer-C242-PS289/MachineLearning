{
 "cells": [
  {
   "cell_type": "code",
   "execution_count": 1,
   "metadata": {},
   "outputs": [],
   "source": [
    "import pandas as pd\n",
    "import numpy as np\n",
    "from sklearn.model_selection import train_test_split\n",
    "# from mlsmote import MLSMOTE\n",
    "\n",
    "import tensorflow as tf\n",
    "from tensorflow.keras import backend as K\n",
    "# from tensorflow.keras.callbacks import EarlyStopping\n",
    "\n",
    "import seaborn as sns\n",
    "import matplotlib.pyplot as plt"
   ]
  },
  {
   "cell_type": "code",
   "execution_count": 3,
   "metadata": {},
   "outputs": [],
   "source": [
    "FILE_PATH='data/riasec/labeled-data.csv'\n",
    "EXCEPTION_SCORES=[0, 8, 16, 32]\n",
    "THRESHOLD=0.2\n",
    "EPOCHS=100\n",
    "BATCH_SIZE=128\n",
    "INPUT_SHAPE=48\n",
    "OUTPUT_SHAPE=6"
   ]
  },
  {
   "cell_type": "code",
   "execution_count": 23,
   "metadata": {},
   "outputs": [],
   "source": [
    "df = pd.read_csv(FILE_PATH)\n",
    "# df = df[~(\n",
    "#     (df['R_Score'].isin(EXCEPTION_SCORES)) & \n",
    "#     (df['I_Score'].isin(EXCEPTION_SCORES)) & \n",
    "#     (df['A_Score'].isin(EXCEPTION_SCORES)) & \n",
    "#     (df['S_Score'].isin(EXCEPTION_SCORES)) & \n",
    "#     (df['E_Score'].isin(EXCEPTION_SCORES)) & \n",
    "#     (df['C_Score'].isin(EXCEPTION_SCORES))\n",
    "# )]"
   ]
  },
  {
   "cell_type": "code",
   "execution_count": 4,
   "metadata": {},
   "outputs": [
    {
     "name": "stdout",
     "output_type": "stream",
     "text": [
      "Index(['R1', 'R2', 'R3', 'R4', 'R5', 'R6', 'R7', 'R8', 'I1', 'I2', 'I3', 'I4',\n",
      "       'I5', 'I6', 'I7', 'I8', 'A1', 'A2', 'A3', 'A4', 'A5', 'A6', 'A7', 'A8',\n",
      "       'S1', 'S2', 'S3', 'S4', 'S5', 'S6', 'S7', 'S8', 'E1', 'E2', 'E3', 'E4',\n",
      "       'E5', 'E6', 'E7', 'E8', 'C1', 'C2', 'C3', 'C4', 'C5', 'C6', 'C7', 'C8',\n",
      "       'R_Score', 'I_Score', 'A_Score', 'S_Score', 'E_Score', 'C_Score',\n",
      "       'R_Prob', 'I_Prob', 'A_Prob', 'S_Prob', 'E_Prob', 'C_Prob'],\n",
      "      dtype='object')\n"
     ]
    }
   ],
   "source": [
    "print(df.columns)"
   ]
  },
  {
   "cell_type": "code",
   "execution_count": 24,
   "metadata": {},
   "outputs": [],
   "source": [
    "feature_columns = [f'{col}{i}' for col in 'RIASEC' for i in range(1, 9)]\n",
    "x = df[feature_columns]\n",
    "\n",
    "label_columns = ['R_Prob','I_Prob','A_Prob','S_Prob','E_Prob','C_Prob']\n",
    "y = pd.get_dummies(df[label_columns].idxmax(axis=1)).astype(int)\n",
    "y = y.reindex(columns=label_columns, fill_value=0)"
   ]
  },
  {
   "cell_type": "code",
   "execution_count": 25,
   "metadata": {},
   "outputs": [
    {
     "name": "stdout",
     "output_type": "stream",
     "text": [
      "Data training shape\t: (108611, 48)\n",
      "Data testing shape\t: (27153, 48)\n",
      "Label training shape\t: (108611, 6)\n",
      "Label testing shape\t: (27153, 6)\n",
      "\n",
      "Data training sample\t:\n",
      ",        R1  R2  R3  R4  R5  R6  R7  R8  I1  I2  ...  E7  E8  C1  C2  C3  C4  \\\n",
      "22808    0   0   0   2   0   0   0   0   3   3  ...   0   3   0   0   0   1   \n",
      "83359    2   3   3   2   1   3   2   2   3   4  ...   2   4   2   4   3   1   \n",
      "68299    0   0   0   0   0   0   0   0   0   1  ...   0   4   0   0   0   0   \n",
      "110292   2   1   0   1   0   0   1   2   4   4  ...   2   3   3   4   1   2   \n",
      "89050    0   0   0   0   0   1   0   0   3   0  ...   2   1   0   0   1   1   \n",
      "\n",
      "        C5  C6  C7  C8  \n",
      "22808    0   0   0   0  \n",
      "83359    3   3   2   2  \n",
      "68299    0   2   0   0  \n",
      "110292   1   4   1   2  \n",
      "89050    1   1   1   0  \n",
      "\n",
      "[5 rows x 48 columns]\n",
      "\n",
      "Label training sample\t:\n",
      ",        R_Prob  I_Prob  A_Prob  S_Prob  E_Prob  C_Prob\n",
      "22808        0       1       0       0       0       0\n",
      "83359        0       0       1       0       0       0\n",
      "68299        0       0       0       0       1       0\n",
      "110292       0       1       0       0       0       0\n",
      "89050        0       0       1       0       0       0\n"
     ]
    }
   ],
   "source": [
    "x_train, x_test, y_train, y_test = train_test_split(x, y, test_size=0.2, random_state=42)\n",
    "\n",
    "print(f\"Data training shape\\t: {x_train.shape[:]}\")\n",
    "print(f\"Data testing shape\\t: {x_test.shape[:]}\")\n",
    "print(f\"Label training shape\\t: {y_train.shape[:]}\")\n",
    "print(f\"Label testing shape\\t: {y_test.shape[:]}\")\n",
    "\n",
    "print(f\"\\nData training sample\\t:\\n,{x_train.head()}\")\n",
    "print(f\"\\nLabel training sample\\t:\\n,{y_train.head()}\")"
   ]
  },
  {
   "cell_type": "code",
   "execution_count": null,
   "metadata": {},
   "outputs": [],
   "source": [
    "# def f1_score(y_true, y_pred):\n",
    "#     y_pred_classes = K.round(y_pred)\n",
    "#     tp = K.sum(K.cast(y_true * y_pred_classes, 'float'), axis=0)\n",
    "#     fp = K.sum(K.cast((1 - y_true) * y_pred_classes, 'float'), axis=0)\n",
    "#     fn = K.sum(K.cast(y_true * (1 - y_pred_classes), 'float'), axis=0)\n",
    "\n",
    "#     precision = tp / (tp + fp + K.epsilon())\n",
    "#     recall = tp / (tp + fn + K.epsilon())\n",
    "#     f1 = 2 * (precision * recall) / (precision + recall + K.epsilon())\n",
    "#     return K.mean(f1)"
   ]
  },
  {
   "cell_type": "code",
   "execution_count": 72,
   "metadata": {},
   "outputs": [],
   "source": [
    "model = tf.keras.Sequential([\n",
    "    tf.keras.Input(shape=(INPUT_SHAPE,)),\n",
    "    tf.keras.layers.Dense(128, activation='relu', kernel_regularizer=tf.keras.regularizers.l2(0.0005), name='dense_layer_1'),\n",
    "    tf.keras.layers.Dropout(0.3, name='dropout_layer_1'),\n",
    "    tf.keras.layers.Dense(64, activation='relu',kernel_regularizer=tf.keras.regularizers.l2(0.0005), name='dense_layer_2'),\n",
    "    tf.keras.layers.Dropout(0.2, name='dropout_layer_2'),\n",
    "    tf.keras.layers.Dense(OUTPUT_SHAPE, activation='softmax', name='output_layer')\n",
    "])"
   ]
  },
  {
   "cell_type": "code",
   "execution_count": 73,
   "metadata": {},
   "outputs": [
    {
     "name": "stdout",
     "output_type": "stream",
     "text": [
      "Model: \"sequential_8\"\n",
      "_________________________________________________________________\n",
      " Layer (type)                Output Shape              Param #   \n",
      "=================================================================\n",
      " dense_layer_1 (Dense)       (None, 128)               6272      \n",
      "                                                                 \n",
      " dropout_layer_1 (Dropout)   (None, 128)               0         \n",
      "                                                                 \n",
      " dense_layer_2 (Dense)       (None, 64)                8256      \n",
      "                                                                 \n",
      " dropout_layer_2 (Dropout)   (None, 64)                0         \n",
      "                                                                 \n",
      " output_layer (Dense)        (None, 6)                 390       \n",
      "                                                                 \n",
      "=================================================================\n",
      "Total params: 14918 (58.27 KB)\n",
      "Trainable params: 14918 (58.27 KB)\n",
      "Non-trainable params: 0 (0.00 Byte)\n",
      "_________________________________________________________________\n"
     ]
    }
   ],
   "source": [
    "model.summary()"
   ]
  },
  {
   "cell_type": "code",
   "execution_count": 74,
   "metadata": {},
   "outputs": [],
   "source": [
    "model.compile(optimizer=tf.keras.optimizers.Adam(learning_rate=0.0001),\n",
    "              loss='categorical_crossentropy',\n",
    "              metrics=['accuracy'])"
   ]
  },
  {
   "cell_type": "code",
   "execution_count": 75,
   "metadata": {},
   "outputs": [
    {
     "name": "stdout",
     "output_type": "stream",
     "text": [
      "Epoch 1/50\n",
      "849/849 [==============================] - 3s 3ms/step - loss: 1.1885 - accuracy: 0.5794 - val_loss: 0.5383 - val_accuracy: 0.8563\n",
      "Epoch 2/50\n",
      "849/849 [==============================] - 3s 3ms/step - loss: 0.6467 - accuracy: 0.7781 - val_loss: 0.3863 - val_accuracy: 0.9016\n",
      "Epoch 3/50\n",
      "849/849 [==============================] - 2s 3ms/step - loss: 0.5247 - accuracy: 0.8231 - val_loss: 0.3214 - val_accuracy: 0.9265\n",
      "Epoch 4/50\n",
      "849/849 [==============================] - 3s 3ms/step - loss: 0.4649 - accuracy: 0.8454 - val_loss: 0.2835 - val_accuracy: 0.9390\n",
      "Epoch 5/50\n",
      "849/849 [==============================] - 4s 5ms/step - loss: 0.4247 - accuracy: 0.8617 - val_loss: 0.2603 - val_accuracy: 0.9472\n",
      "Epoch 6/50\n",
      "849/849 [==============================] - 3s 4ms/step - loss: 0.3982 - accuracy: 0.8712 - val_loss: 0.2423 - val_accuracy: 0.9526\n",
      "Epoch 7/50\n",
      "849/849 [==============================] - 3s 3ms/step - loss: 0.3688 - accuracy: 0.8825 - val_loss: 0.2270 - val_accuracy: 0.9585\n",
      "Epoch 8/50\n",
      "849/849 [==============================] - 3s 4ms/step - loss: 0.3537 - accuracy: 0.8891 - val_loss: 0.2140 - val_accuracy: 0.9647\n",
      "Epoch 9/50\n",
      "849/849 [==============================] - 3s 4ms/step - loss: 0.3362 - accuracy: 0.8949 - val_loss: 0.2059 - val_accuracy: 0.9674\n",
      "Epoch 10/50\n",
      "849/849 [==============================] - 3s 3ms/step - loss: 0.3263 - accuracy: 0.8987 - val_loss: 0.1973 - val_accuracy: 0.9700\n",
      "Epoch 11/50\n",
      "849/849 [==============================] - 3s 4ms/step - loss: 0.3144 - accuracy: 0.9019 - val_loss: 0.1911 - val_accuracy: 0.9736\n",
      "Epoch 12/50\n",
      "849/849 [==============================] - 3s 4ms/step - loss: 0.3021 - accuracy: 0.9079 - val_loss: 0.1868 - val_accuracy: 0.9694\n",
      "Epoch 13/50\n",
      "849/849 [==============================] - 3s 4ms/step - loss: 0.2924 - accuracy: 0.9114 - val_loss: 0.1790 - val_accuracy: 0.9751\n",
      "Epoch 14/50\n",
      "849/849 [==============================] - 3s 3ms/step - loss: 0.2871 - accuracy: 0.9118 - val_loss: 0.1747 - val_accuracy: 0.9753\n",
      "Epoch 15/50\n",
      "849/849 [==============================] - 3s 3ms/step - loss: 0.2794 - accuracy: 0.9150 - val_loss: 0.1707 - val_accuracy: 0.9757\n",
      "Epoch 16/50\n",
      "849/849 [==============================] - 3s 3ms/step - loss: 0.2696 - accuracy: 0.9176 - val_loss: 0.1655 - val_accuracy: 0.9797\n",
      "Epoch 17/50\n",
      "849/849 [==============================] - 3s 3ms/step - loss: 0.2637 - accuracy: 0.9196 - val_loss: 0.1610 - val_accuracy: 0.9806\n",
      "Epoch 18/50\n",
      "849/849 [==============================] - 3s 3ms/step - loss: 0.2588 - accuracy: 0.9204 - val_loss: 0.1575 - val_accuracy: 0.9808\n",
      "Epoch 19/50\n",
      "849/849 [==============================] - 3s 3ms/step - loss: 0.2498 - accuracy: 0.9251 - val_loss: 0.1530 - val_accuracy: 0.9846\n",
      "Epoch 20/50\n",
      "849/849 [==============================] - 3s 3ms/step - loss: 0.2477 - accuracy: 0.9247 - val_loss: 0.1527 - val_accuracy: 0.9862\n",
      "Epoch 21/50\n",
      "849/849 [==============================] - 3s 3ms/step - loss: 0.2434 - accuracy: 0.9266 - val_loss: 0.1480 - val_accuracy: 0.9855\n",
      "Epoch 22/50\n",
      "849/849 [==============================] - 3s 3ms/step - loss: 0.2374 - accuracy: 0.9284 - val_loss: 0.1484 - val_accuracy: 0.9850\n",
      "Epoch 23/50\n",
      "849/849 [==============================] - 3s 3ms/step - loss: 0.2345 - accuracy: 0.9297 - val_loss: 0.1438 - val_accuracy: 0.9877\n",
      "Epoch 24/50\n",
      "849/849 [==============================] - 3s 3ms/step - loss: 0.2275 - accuracy: 0.9309 - val_loss: 0.1424 - val_accuracy: 0.9850\n",
      "Epoch 25/50\n",
      "849/849 [==============================] - 3s 4ms/step - loss: 0.2236 - accuracy: 0.9322 - val_loss: 0.1390 - val_accuracy: 0.9873\n",
      "Epoch 26/50\n",
      "849/849 [==============================] - 3s 4ms/step - loss: 0.2202 - accuracy: 0.9343 - val_loss: 0.1384 - val_accuracy: 0.9851\n",
      "Epoch 27/50\n",
      "849/849 [==============================] - 3s 4ms/step - loss: 0.2154 - accuracy: 0.9357 - val_loss: 0.1359 - val_accuracy: 0.9853\n",
      "Epoch 28/50\n",
      "849/849 [==============================] - 4s 4ms/step - loss: 0.2142 - accuracy: 0.9355 - val_loss: 0.1320 - val_accuracy: 0.9898\n",
      "Epoch 29/50\n",
      "849/849 [==============================] - 4s 5ms/step - loss: 0.2105 - accuracy: 0.9376 - val_loss: 0.1305 - val_accuracy: 0.9902\n",
      "Epoch 30/50\n",
      "849/849 [==============================] - 3s 4ms/step - loss: 0.2080 - accuracy: 0.9375 - val_loss: 0.1285 - val_accuracy: 0.9906\n",
      "Epoch 31/50\n",
      "849/849 [==============================] - 3s 4ms/step - loss: 0.2024 - accuracy: 0.9401 - val_loss: 0.1285 - val_accuracy: 0.9898\n",
      "Epoch 32/50\n",
      "849/849 [==============================] - 3s 4ms/step - loss: 0.2015 - accuracy: 0.9392 - val_loss: 0.1258 - val_accuracy: 0.9908\n",
      "Epoch 33/50\n",
      "849/849 [==============================] - 4s 4ms/step - loss: 0.1985 - accuracy: 0.9401 - val_loss: 0.1237 - val_accuracy: 0.9915\n",
      "Epoch 34/50\n",
      "849/849 [==============================] - 4s 4ms/step - loss: 0.1956 - accuracy: 0.9416 - val_loss: 0.1234 - val_accuracy: 0.9898\n",
      "Epoch 35/50\n",
      "849/849 [==============================] - 4s 4ms/step - loss: 0.1935 - accuracy: 0.9426 - val_loss: 0.1235 - val_accuracy: 0.9903\n",
      "Epoch 36/50\n",
      "849/849 [==============================] - 3s 4ms/step - loss: 0.1891 - accuracy: 0.9434 - val_loss: 0.1203 - val_accuracy: 0.9918\n",
      "Epoch 37/50\n",
      "849/849 [==============================] - 4s 5ms/step - loss: 0.1896 - accuracy: 0.9433 - val_loss: 0.1199 - val_accuracy: 0.9896\n",
      "Epoch 38/50\n",
      "849/849 [==============================] - 3s 4ms/step - loss: 0.1861 - accuracy: 0.9450 - val_loss: 0.1184 - val_accuracy: 0.9904\n",
      "Epoch 39/50\n",
      "849/849 [==============================] - 4s 5ms/step - loss: 0.1855 - accuracy: 0.9440 - val_loss: 0.1178 - val_accuracy: 0.9921\n",
      "Epoch 40/50\n",
      "849/849 [==============================] - 3s 4ms/step - loss: 0.1787 - accuracy: 0.9476 - val_loss: 0.1128 - val_accuracy: 0.9933\n",
      "Epoch 41/50\n",
      "849/849 [==============================] - 4s 4ms/step - loss: 0.1786 - accuracy: 0.9478 - val_loss: 0.1135 - val_accuracy: 0.9919\n",
      "Epoch 42/50\n",
      "849/849 [==============================] - 4s 5ms/step - loss: 0.1765 - accuracy: 0.9477 - val_loss: 0.1138 - val_accuracy: 0.9930\n",
      "Epoch 43/50\n",
      "849/849 [==============================] - 4s 5ms/step - loss: 0.1760 - accuracy: 0.9476 - val_loss: 0.1117 - val_accuracy: 0.9931\n",
      "Epoch 44/50\n",
      "849/849 [==============================] - 4s 5ms/step - loss: 0.1741 - accuracy: 0.9484 - val_loss: 0.1107 - val_accuracy: 0.9923\n",
      "Epoch 45/50\n",
      "849/849 [==============================] - 4s 4ms/step - loss: 0.1720 - accuracy: 0.9497 - val_loss: 0.1084 - val_accuracy: 0.9917\n",
      "Epoch 46/50\n",
      "849/849 [==============================] - 4s 5ms/step - loss: 0.1708 - accuracy: 0.9499 - val_loss: 0.1087 - val_accuracy: 0.9922\n",
      "Epoch 47/50\n",
      "849/849 [==============================] - 3s 4ms/step - loss: 0.1677 - accuracy: 0.9512 - val_loss: 0.1070 - val_accuracy: 0.9923\n",
      "Epoch 48/50\n",
      "849/849 [==============================] - 4s 4ms/step - loss: 0.1665 - accuracy: 0.9512 - val_loss: 0.1055 - val_accuracy: 0.9915\n",
      "Epoch 49/50\n",
      "849/849 [==============================] - 3s 4ms/step - loss: 0.1649 - accuracy: 0.9512 - val_loss: 0.1058 - val_accuracy: 0.9916\n",
      "Epoch 50/50\n",
      "849/849 [==============================] - 4s 4ms/step - loss: 0.1630 - accuracy: 0.9527 - val_loss: 0.1028 - val_accuracy: 0.9930\n"
     ]
    }
   ],
   "source": [
    "history = model.fit(x_train, y_train, epochs=50, batch_size=128, validation_data=(x_test, y_test), verbose=1)"
   ]
  },
  {
   "cell_type": "code",
   "execution_count": 76,
   "metadata": {},
   "outputs": [
    {
     "name": "stdout",
     "output_type": "stream",
     "text": [
      "849/849 [==============================] - 1s 1ms/step - loss: 0.1028 - accuracy: 0.9930\n",
      "Loss: 0.10278352349996567, Accuracy: 0.9929657578468323\n"
     ]
    }
   ],
   "source": [
    "results = model.evaluate(x_test, y_test)\n",
    "print(f\"Loss: {results[0]}, Accuracy: {results[1]}\")"
   ]
  },
  {
   "cell_type": "code",
   "execution_count": 77,
   "metadata": {},
   "outputs": [
    {
     "data": {
      "image/png": "[encoded data removed]",
      "text/plain": [
       "<Figure size 1200x500 with 2 Axes>"
      ]
     },
     "metadata": {},
     "output_type": "display_data"
    }
   ],
   "source": [
    "plt.figure(figsize=(12, 5))\n",
    "\n",
    "plt.subplot(1, 2, 1)\n",
    "plt.plot(history.history['loss'], label='Training Loss')\n",
    "plt.plot(history.history['val_loss'], label='Validation Loss') \n",
    "plt.title('Loss over Epochs')\n",
    "plt.xlabel('Epochs')\n",
    "plt.ylabel('Loss')\n",
    "plt.legend()\n",
    "\n",
    "plt.subplot(1, 2, 2)\n",
    "plt.plot(history.history['accuracy'], label='Training Accuracy')\n",
    "plt.plot(history.history['val_accuracy'], label='Validation Accuracy')\n",
    "plt.title('Accuracy over Epochs')\n",
    "plt.xlabel('Epochs')\n",
    "plt.ylabel('Accuracy')\n",
    "plt.legend()\n",
    "\n",
    "plt.show()"
   ]
  },
  {
   "cell_type": "code",
   "execution_count": 78,
   "metadata": {},
   "outputs": [
    {
     "name": "stdout",
     "output_type": "stream",
     "text": [
      "1/1 [==============================] - 0s 81ms/step\n",
      "Probabilitas Prediksi:\n",
      " [[1.7180076e-01 5.0530355e-07 4.6668019e-02 1.1903710e-10 4.6945726e-03\n",
      "  7.7683610e-01]\n",
      " [4.4030657e-01 4.2812485e-01 1.2749897e-01 2.5976129e-05 3.5551799e-04\n",
      "  3.6880954e-03]\n",
      " [2.9475577e-04 2.1879126e-04 1.0772570e-03 9.9786466e-01 3.5101207e-04\n",
      "  1.9359648e-04]\n",
      " [1.4765361e-04 4.5616521e-06 5.6846634e-06 1.0255196e-02 5.7372400e-03\n",
      "  9.8384976e-01]\n",
      " [1.0944476e-02 5.8417871e-05 1.3171390e-04 3.3768879e-03 9.6631938e-01\n",
      "  1.9169141e-02]\n",
      " [1.1342344e-05 9.9998569e-01 1.8664728e-09 9.8652640e-07 2.0398137e-07\n",
      "  1.8211740e-06]\n",
      " [1.7824536e-09 2.2330946e-12 6.3098467e-12 1.3747983e-02 1.0774902e-08\n",
      "  9.8625201e-01]\n",
      " [1.9169276e-05 9.6165595e-06 2.1356438e-01 7.8627843e-01 1.2185529e-04\n",
      "  6.5707136e-06]\n",
      " [8.6974924e-06 2.4109241e-04 9.9974400e-01 2.2048316e-07 2.1208511e-07\n",
      "  5.7452226e-06]\n",
      " [6.6578309e-07 1.5246576e-07 1.3680485e-06 9.9996328e-01 1.2236806e-05\n",
      "  2.2305749e-05]]\n",
      "\n",
      "Hasil Biner:\n",
      " [[0. 0. 0. 0. 0. 1.]\n",
      " [1. 0. 0. 0. 0. 0.]\n",
      " [0. 0. 0. 1. 0. 0.]\n",
      " [0. 0. 0. 0. 0. 1.]\n",
      " [0. 0. 0. 0. 1. 0.]\n",
      " [0. 1. 0. 0. 0. 0.]\n",
      " [0. 0. 0. 0. 0. 1.]\n",
      " [0. 0. 0. 1. 0. 0.]\n",
      " [0. 0. 1. 0. 0. 0.]\n",
      " [0. 0. 0. 1. 0. 0.]]\n",
      "\n",
      "Keterangan Kategori RIASEC:\n",
      "Data ke-1: C\n",
      "Data ke-2: R\n",
      "Data ke-3: S\n",
      "Data ke-4: C\n",
      "Data ke-5: E\n",
      "Data ke-6: I\n",
      "Data ke-7: C\n",
      "Data ke-8: S\n",
      "Data ke-9: A\n",
      "Data ke-10: S\n",
      "\n",
      "Ground Truth: C, R/I/A, S, C, E, I, C, S, A, S\n"
     ]
    }
   ],
   "source": [
    "categories = ['R', 'I', 'A', 'S', 'E', 'C']\n",
    "new_data = np.array([[4,4,4,5,2,2,1,1,4,1,1,4,1,2,1,1,1,1,2,4,4,2,3,5,2,1,1,1,1,1,1,4,2,5,5,1,2,1,4,1,3,4,5,2,3,1,2,4],\n",
    "                    [3,2,3,4,4,3,4,1,4,5,1,1,3,3,4,3,5,3,2,3,3,3,4,1,2,3,3,1,4,5,2,1,1,3,1,3,1,2,1,3,2,1,4,2,3,3,2,3],\n",
    "                    [1,4,2,2,1,3,4,3,3,1,2,5,1,2,2,5,1,5,3,3,1,3,3,4,2,5,5,5,3,3,3,1,5,1,5,3,1,1,4,2,3,3,1,3,4,1,4,2],\n",
    "                    [1,2,2,2,1,3,4,1,1,1,2,5,1,2,2,5,1,1,3,2,1,3,3,2,2,5,5,2,3,3,3,1,5,1,5,3,1,3,4,2,5,4,4,3,5,1,3,2],\n",
    "                    [2,3,4,5,2,1,1,5,2,3,2,2,3,3,3,1,3,1,1,2,1,5,3,4,5,1,1,5,4,1,1,5,3,3,2,2,4,5,5,2,3,2,2,4,3,3,5,2],\n",
    "                    [1,2,3,2,1,4,4,1,5,5,3,5,5,2,3,3,1,1,2,2,1,5,2,2,5,4,5,2,3,3,3,2,2,1,3,2,1,3,4,3,1,4,4,1,3,1,2,1],\n",
    "                    [1,3,1,2,1,2,1,3,2,3,1,1,2,1,2,2,3,1,2,3,2,1,1,2,5,5,5,1,4,4,5,3,1,1,1,5,3,3,5,1,5,4,4,3,5,5,5,5],\n",
    "                    [2,2,1,2,3,3,2,2,1,3,4,2,2,2,3,2,5,2,1,3,2,5,5,5,1,4,4,5,4,2,5,4,1,1,4,4,2,4,4,3,1,1,1,3,1,2,5,2],\n",
    "                    [1,4,3,5,4,5,1,1,1,1,5,5,5,5,1,5,5,5,3,5,5,3,1,5,1,3,3,5,2,5,3,5,2,3,1,1,2,3,2,1,2,1,5,4,5,1,3,2],\n",
    "                    [5,1,2,2,3,2,1,1,3,2,1,1,1,1,5,3,1,3,1,3,2,4,1,5,1,2,5,5,3,4,5,5,1,3,3,4,5,5,1,2,4,2,3,2,5,1,5,3]])\n",
    "\n",
    "\n",
    "predictions = model.predict(new_data)\n",
    "\n",
    "max_indices = predictions.argmax(axis=1)\n",
    "binary_predictions = np.zeros_like(predictions)\n",
    "binary_predictions[np.arange(len(predictions)), max_indices] = 1\n",
    "\n",
    "print(\"Probabilitas Prediksi:\\n\", predictions)\n",
    "print(\"\\nHasil Biner:\\n\", binary_predictions)\n",
    "\n",
    "print(\"\\nKeterangan Kategori RIASEC:\")\n",
    "for i, binary_result in enumerate(binary_predictions):\n",
    "    predicted_categories = [categories[j] for j, val in enumerate(binary_result) if val == 1]\n",
    "    print(f\"Data ke-{i+1}: {', '.join(predicted_categories)}\")\n",
    "\n",
    "print(\"\\nGround Truth: C, R/I/A, S, C, E, I, C, S, A, S\")"
   ]
  },
  {
   "cell_type": "code",
   "execution_count": 116,
   "metadata": {},
   "outputs": [
    {
     "name": "stdout",
     "output_type": "stream",
     "text": [
      "INFO:tensorflow:Assets written to: saved_model\\assets\n"
     ]
    },
    {
     "name": "stderr",
     "output_type": "stream",
     "text": [
      "INFO:tensorflow:Assets written to: saved_model\\assets\n"
     ]
    }
   ],
   "source": [
    "model.save('saved_model')"
   ]
  },
  {
   "cell_type": "code",
   "execution_count": 117,
   "metadata": {},
   "outputs": [],
   "source": [
    "converter = tf.lite.TFLiteConverter.from_saved_model('saved_model')\n",
    "tflite_model = converter.convert()\n",
    "\n",
    "with open('model.tflite', 'wb') as f:\n",
    "    f.write(tflite_model)"
   ]
  },
  {
   "cell_type": "code",
   "execution_count": null,
   "metadata": {},
   "outputs": [],
   "source": []
  }
 ],
 "metadata": {
  "kernelspec": {
   "display_name": "Python 3",
   "language": "python",
   "name": "python3"
  },
  "language_info": {
   "codemirror_mode": {
    "name": "ipython",
    "version": 3
   },
   "file_extension": ".py",
   "mimetype": "text/x-python",
   "name": "python",
   "nbconvert_exporter": "python",
   "pygments_lexer": "ipython3",
   "version": "3.11.9"
  }
 },
 "nbformat": 4,
 "nbformat_minor": 2
}
